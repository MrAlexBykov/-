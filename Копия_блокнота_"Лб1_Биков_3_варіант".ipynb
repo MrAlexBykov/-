{
  "cells": [
    {
      "cell_type": "markdown",
      "metadata": {
        "id": "view-in-github",
        "colab_type": "text"
      },
      "source": [
        "<a href=\"https://colab.research.google.com/github/MrAlexBykov/MACHINE-LEARNING/blob/main/%D0%9A%D0%BE%D0%BF%D0%B8%D1%8F_%D0%B1%D0%BB%D0%BE%D0%BA%D0%BD%D0%BE%D1%82%D0%B0_%22%D0%9B%D0%B11_%D0%91%D0%B8%D0%BA%D0%BE%D0%B2_3_%D0%B2%D0%B0%D1%80%D1%96%D0%B0%D0%BD%D1%82%22.ipynb\" target=\"_parent\"><img src=\"https://colab.research.google.com/assets/colab-badge.svg\" alt=\"Open In Colab\"/></a>"
      ]
    },
    {
      "cell_type": "markdown",
      "metadata": {
        "id": "GJBs_flRovLc"
      },
      "source": [
        "<div class=\"markdown-google-sans\">\n",
        "\n",
        "## <strong>Начало работы</strong>\n",
        "</div>\n",
        "\n",
        "Документ, который вы читаете, размещен не на статической веб-странице, а в интерактивной среде под названием <strong>блокнот Colab</strong>, позволяющей писать и выполнять код.\n",
        "\n",
        "Например, вот <strong>ячейка</strong> с коротким скриптом Python, который позволяет рассчитать значение, выразить его в виде переменной и распечатать результат:"
      ]
    },
    {
      "cell_type": "code",
      "source": [
        "#1 Створіть одновимірний масив (вектор) з парними числами від 2 до 20 та виведіть\n",
        "# його значення\n",
        "import numpy as np\n",
        "\n",
        "even_numbers = np.arange(2, 21, 2)\n",
        "even_numbers\n"
      ],
      "metadata": {
        "colab": {
          "base_uri": "https://localhost:8080/"
        },
        "id": "fdYcge5kRWse",
        "outputId": "52a6a53e-e514-4dc7-cad6-96c523d0e62a"
      },
      "execution_count": null,
      "outputs": [
        {
          "output_type": "execute_result",
          "data": {
            "text/plain": [
              "array([ 2,  4,  6,  8, 10, 12, 14, 16, 18, 20])"
            ]
          },
          "metadata": {},
          "execution_count": 1
        }
      ]
    },
    {
      "cell_type": "code",
      "execution_count": null,
      "metadata": {
        "colab": {
          "base_uri": "https://localhost:8080/"
        },
        "id": "gJr_9dXGpJ05",
        "outputId": "12be6b2f-0bb3-4c34-c68d-81f2caf05583"
      },
      "outputs": [
        {
          "output_type": "execute_result",
          "data": {
            "text/plain": [
              "array([[0.80140951, 0.50902251, 0.505963  ],\n",
              "       [0.12639927, 0.42797657, 0.38237179],\n",
              "       [0.11877661, 0.09101944, 0.65685684]])"
            ]
          },
          "metadata": {},
          "execution_count": 2
        }
      ],
      "source": [
        "#2 Створіть двовимірний масив (матрицю) розміром 3x3, заповніть його випадковими\n",
        "#дійсними числами від 0 до 1 та виведіть його значення.\n",
        "import numpy as np\n",
        "\n",
        "random_matrix = np.random.rand(3, 3)\n",
        "random_matrix\n"
      ]
    },
    {
      "cell_type": "code",
      "source": [
        "#3 Створіть масив розміром 3x3, заповніть його випадковими натуральними числами від\n",
        "# 1 до 20 та виведіть його значення.\n",
        "import numpy as np\n",
        "\n",
        "random_integer_matrix = np.random.randint(1, 21, size=(3, 3))\n",
        "random_integer_matrix\n"
      ],
      "metadata": {
        "colab": {
          "base_uri": "https://localhost:8080/"
        },
        "id": "ShwFxzv2SeLc",
        "outputId": "0c40a02a-d40a-4f05-9aa0-f9e3205c9f68"
      },
      "execution_count": null,
      "outputs": [
        {
          "output_type": "execute_result",
          "data": {
            "text/plain": [
              "array([[11, 11, 17],\n",
              "       [ 3, 12, 12],\n",
              "       [18, 12,  7]])"
            ]
          },
          "metadata": {},
          "execution_count": 3
        }
      ]
    },
    {
      "cell_type": "code",
      "source": [
        "#4 Створіть масив розміром 4x4, заповніть його випадковими дійсними числами в\n",
        "# діапазоні від 0 до 1 та знайдіть мінімальний елемент\n",
        "import numpy as np\n",
        "\n",
        "matrix = np.random.rand(4, 4)\n",
        "\n",
        "min_element = np.min(matrix)\n",
        "\n",
        "matrix, min_element\n"
      ],
      "metadata": {
        "colab": {
          "base_uri": "https://localhost:8080/"
        },
        "id": "iKt4zEQzSfcl",
        "outputId": "c4d85dbc-264e-45dd-f847-42319108fae1"
      },
      "execution_count": null,
      "outputs": [
        {
          "output_type": "execute_result",
          "data": {
            "text/plain": [
              "(array([[0.96008088, 0.85699476, 0.43773791, 0.47295107],\n",
              "        [0.96316304, 0.79650799, 0.64184797, 0.38122748],\n",
              "        [0.58015678, 0.59167146, 0.97924377, 0.06675203],\n",
              "        [0.98049249, 0.43266483, 0.02464392, 0.57048473]]),\n",
              " 0.024643923723658423)"
            ]
          },
          "metadata": {},
          "execution_count": 4
        }
      ]
    },
    {
      "cell_type": "code",
      "source": [
        "#5 Створіть два одновимірних масиви розміром 7, заповніть їх випадковими цілими\n",
        "# числами в діапазоні від 1 до 15 та виконайте на них поелементні операції додавання,\n",
        "# віднімання та множення.\n",
        "import numpy as np\n",
        "\n",
        "array1 = np.random.randint(1, 16, size=7)\n",
        "array2 = np.random.randint(1, 16, size=7)\n",
        "\n",
        "addition = array1 + array2\n",
        "subtraction = array1 - array2\n",
        "multiplication = array1 * array2\n",
        "\n",
        "array1, array2, addition, subtraction, multiplication\n"
      ],
      "metadata": {
        "colab": {
          "base_uri": "https://localhost:8080/"
        },
        "id": "5fjl7k0kSfnf",
        "outputId": "65db321e-b4ea-4af9-fda7-d0c84023e1c6"
      },
      "execution_count": null,
      "outputs": [
        {
          "output_type": "execute_result",
          "data": {
            "text/plain": [
              "(array([ 7,  4,  5,  1, 10,  3,  5]),\n",
              " array([ 7,  7, 12,  1, 12,  5, 13]),\n",
              " array([14, 11, 17,  2, 22,  8, 18]),\n",
              " array([ 0, -3, -7,  0, -2, -2, -8]),\n",
              " array([ 49,  28,  60,   1, 120,  15,  65]))"
            ]
          },
          "metadata": {},
          "execution_count": 5
        }
      ]
    },
    {
      "cell_type": "code",
      "source": [
        "#6 Створіть дві матриці 3x3, заповніть їх довільними цілими числами від 3 до 30 та\n",
        "# знайдіть їх добуток.\n",
        "import numpy as np\n",
        "\n",
        "matrix1 = np.random.randint(3, 31, size=(3, 3))\n",
        "matrix2 = np.random.randint(3, 31, size=(3, 3))\n",
        "\n",
        "matrix_product = np.dot(matrix1, matrix2)\n",
        "\n",
        "matrix1, matrix2, matrix_product\n"
      ],
      "metadata": {
        "colab": {
          "base_uri": "https://localhost:8080/"
        },
        "id": "BmWTRoJpSfv-",
        "outputId": "1c5a0983-8047-4349-917b-c28f3f4bfcab"
      },
      "execution_count": null,
      "outputs": [
        {
          "output_type": "execute_result",
          "data": {
            "text/plain": [
              "(array([[13, 24, 29],\n",
              "        [27, 27,  3],\n",
              "        [26, 25, 22]]),\n",
              " array([[17, 16, 19],\n",
              "        [20, 21,  4],\n",
              "        [30,  3, 10]]),\n",
              " array([[1571,  799,  633],\n",
              "        [1089, 1008,  651],\n",
              "        [1602, 1007,  814]]))"
            ]
          },
          "metadata": {},
          "execution_count": 6
        }
      ]
    },
    {
      "cell_type": "code",
      "source": [
        "#7 Створіть дві матриці розміром 4x2 та 2x5, заповніть їх випадковими цілими числами\n",
        "# в діапазоні від 1 до 7 та перемножте їх між собою\n",
        "import numpy as np\n",
        "\n",
        "matrix1 = np.random.randint(1, 8, size=(4, 2))\n",
        "\n",
        "matrix2 = np.random.randint(1, 8, size=(2, 5))\n",
        "\n",
        "matrix_product = np.dot(matrix1, matrix2)\n",
        "\n",
        "matrix1, matrix2, matrix_product\n"
      ],
      "metadata": {
        "colab": {
          "base_uri": "https://localhost:8080/"
        },
        "id": "UtBWzBAgSfyf",
        "outputId": "246c7f9d-128b-459d-f381-2c4f9afd7893"
      },
      "execution_count": null,
      "outputs": [
        {
          "output_type": "execute_result",
          "data": {
            "text/plain": [
              "(array([[4, 4],\n",
              "        [2, 5],\n",
              "        [6, 5],\n",
              "        [5, 6]]),\n",
              " array([[7, 4, 7, 5, 3],\n",
              "        [2, 2, 2, 1, 3]]),\n",
              " array([[36, 24, 36, 24, 24],\n",
              "        [24, 18, 24, 15, 21],\n",
              "        [52, 34, 52, 35, 33],\n",
              "        [47, 32, 47, 31, 33]]))"
            ]
          },
          "metadata": {},
          "execution_count": 7
        }
      ]
    },
    {
      "cell_type": "code",
      "source": [
        "#8 Створіть матрицю розміром 2x2, заповніть її випадковими цілими числами в діапазоні\n",
        "# від 1 до 8 та знайдіть її обернену матрицю.\n",
        "import numpy as np\n",
        "\n",
        "matrix = np.random.randint(1, 9, size=(2, 2))\n",
        "\n",
        "inverse_matrix = np.linalg.inv(matrix)\n",
        "\n",
        "matrix, inverse_matrix\n",
        "\n"
      ],
      "metadata": {
        "colab": {
          "base_uri": "https://localhost:8080/"
        },
        "id": "X0eIP_05Sf01",
        "outputId": "173a10a0-f47d-47b3-c6c9-7d9b7f0f4ea1"
      },
      "execution_count": null,
      "outputs": [
        {
          "output_type": "execute_result",
          "data": {
            "text/plain": [
              "(array([[6, 4],\n",
              "        [5, 8]]),\n",
              " array([[ 0.28571429, -0.14285714],\n",
              "        [-0.17857143,  0.21428571]]))"
            ]
          },
          "metadata": {},
          "execution_count": 8
        }
      ]
    },
    {
      "cell_type": "code",
      "source": [
        "#9 Створіть матрицю розміром 2x3, заповніть її випадковими дійсними числами в\n",
        "# діапазоні від 0 до 1 та транспонуйте її\n",
        "import numpy as np\n",
        "\n",
        "matrix = np.random.rand(2, 3)\n",
        "\n",
        "transposed_matrix = np.transpose(matrix)\n",
        "\n",
        "matrix, transposed_matrix\n"
      ],
      "metadata": {
        "colab": {
          "base_uri": "https://localhost:8080/"
        },
        "id": "1QLoAvQhSf3p",
        "outputId": "6e41b3ad-602b-472f-e539-fba63ec6e4c6"
      },
      "execution_count": null,
      "outputs": [
        {
          "output_type": "execute_result",
          "data": {
            "text/plain": [
              "(array([[0.36543449, 0.28507241, 0.67508988],\n",
              "        [0.32285908, 0.12662581, 0.23485068]]),\n",
              " array([[0.36543449, 0.32285908],\n",
              "        [0.28507241, 0.12662581],\n",
              "        [0.67508988, 0.23485068]]))"
            ]
          },
          "metadata": {},
          "execution_count": 9
        }
      ]
    },
    {
      "cell_type": "code",
      "source": [
        "#10 Створіть матрицю розміром 3x4 та вектор розміром 4 x1, заповніть їх випадковими\n",
        "# цілими числами в діапазоні від 1 до 10 та знайдіть добуток матриці на вектор.\n",
        "import numpy as np\n",
        "\n",
        "matrix_shape = (3, 4)\n",
        "vector_shape = (4, 1)\n",
        "\n",
        "matrix = np.random.randint(1, 11, size=matrix_shape)\n",
        "vector = np.random.randint(1, 11, size=vector_shape)\n",
        "\n",
        "print(\"Матриця:\")\n",
        "print(matrix)\n",
        "print(\"\\nВектор:\")\n",
        "print(vector)\n",
        "\n",
        "product = np.dot(matrix, vector)\n",
        "\n",
        "print(\"\\nДобуток матриці на вектор:\")\n",
        "print(product)\n"
      ],
      "metadata": {
        "colab": {
          "base_uri": "https://localhost:8080/"
        },
        "id": "y_dwUaElSf6B",
        "outputId": "d4eb74ce-95e6-4c77-d778-5788368f6c33"
      },
      "execution_count": null,
      "outputs": [
        {
          "output_type": "stream",
          "name": "stdout",
          "text": [
            "Матриця:\n",
            "[[ 5 10  9  2]\n",
            " [ 5  3  8  8]\n",
            " [ 9 10 10  1]]\n",
            "\n",
            "Вектор:\n",
            "[[ 9]\n",
            " [ 2]\n",
            " [10]\n",
            " [ 2]]\n",
            "\n",
            "Добуток матриці на вектор:\n",
            "[[159]\n",
            " [147]\n",
            " [203]]\n"
          ]
        }
      ]
    },
    {
      "cell_type": "code",
      "source": [
        "#11 Створіть матрицю розміром 2x3 та вектор розміром 3x1, заповніть матрицю\n",
        "# випадковими дійсними числами від 0 до 1, а вектор - випадковими цілими числами в\n",
        "# діапазоні від 1 до 10, і знайдіть добуток матриці на вектор.\n",
        "import numpy as np\n",
        "\n",
        "matrix_shape = (2, 3)\n",
        "vector_shape = (3, 1)\n",
        "\n",
        "matrix = np.random.rand(*matrix_shape)\n",
        "\n",
        "vector = np.random.randint(1, 11, size=vector_shape)\n",
        "\n",
        "print(\"Матриця:\")\n",
        "print(matrix)\n",
        "print(\"\\nВектор:\")\n",
        "print(vector)\n",
        "\n",
        "product = np.dot(matrix, vector)\n",
        "\n",
        "print(\"\\nДобуток матриці на вектор:\")\n",
        "print(product)\n"
      ],
      "metadata": {
        "colab": {
          "base_uri": "https://localhost:8080/"
        },
        "id": "TOjdkKoGZrWe",
        "outputId": "9714b894-7362-4741-e35f-58a0473a6863"
      },
      "execution_count": null,
      "outputs": [
        {
          "output_type": "stream",
          "name": "stdout",
          "text": [
            "Матриця:\n",
            "[[0.98176366 0.25216915 0.29417632]\n",
            " [0.35405093 0.59121527 0.17277526]]\n",
            "\n",
            "Вектор:\n",
            "[[4]\n",
            " [6]\n",
            " [7]]\n",
            "\n",
            "Добуток матриці на вектор:\n",
            "[[7.49930384]\n",
            " [6.17292214]]\n"
          ]
        }
      ]
    },
    {
      "cell_type": "code",
      "source": [
        "#12 Створіть дві матриці розміром 4x4, заповніть їх випадковими цілими числами в\n",
        "# діапазоні від 1 до 10 та знайдіть їхню суму.\n",
        "\n",
        "import numpy as np\n",
        "\n",
        "matrix_shape = (4, 4)\n",
        "\n",
        "matrix1 = np.random.randint(1, 11, size=matrix_shape)\n",
        "matrix2 = np.random.randint(1, 11, size=matrix_shape)\n",
        "\n",
        "print(\"Перша матриця:\")\n",
        "print(matrix1)\n",
        "print(\"\\nДруга матриця:\")\n",
        "print(matrix2)\n",
        "\n",
        "matrix_sum = matrix1 + matrix2\n",
        "\n",
        "print(\"\\nСума матриць:\")\n",
        "print(matrix_sum)\n"
      ],
      "metadata": {
        "colab": {
          "base_uri": "https://localhost:8080/"
        },
        "id": "hIN4W6mBZrf-",
        "outputId": "40e7c046-ac65-47f9-db22-0c0b5d718c86"
      },
      "execution_count": null,
      "outputs": [
        {
          "output_type": "stream",
          "name": "stdout",
          "text": [
            "Перша матриця:\n",
            "[[ 4  7 10 10]\n",
            " [ 2  7  4  3]\n",
            " [ 1  2  5  5]\n",
            " [ 9  5  8 10]]\n",
            "\n",
            "Друга матриця:\n",
            "[[8 9 1 7]\n",
            " [7 4 9 7]\n",
            " [7 2 6 7]\n",
            " [2 6 9 6]]\n",
            "\n",
            "Сума матриць:\n",
            "[[12 16 11 17]\n",
            " [ 9 11 13 10]\n",
            " [ 8  4 11 12]\n",
            " [11 11 17 16]]\n"
          ]
        }
      ]
    },
    {
      "cell_type": "code",
      "source": [
        "#13 Створіть дві матриці розміром 4x4, заповніть їх випадковими дійсними числами в\n",
        "#діапазоні від -1 до 1 та знайдіть їх добуток\n",
        "import numpy as np\n",
        "\n",
        "matrix_shape = (4, 4)\n",
        "\n",
        "matrix1 = np.random.uniform(-1, 1, size=matrix_shape)\n",
        "matrix2 = np.random.uniform(-1, 1, size=matrix_shape)\n",
        "\n",
        "print(\"Перша матриця:\")\n",
        "print(matrix1)\n",
        "print(\"\\nДруга матриця:\")\n",
        "print(matrix2)\n",
        "\n",
        "matrix_product = np.dot(matrix1, matrix2)\n",
        "\n",
        "print(\"\\nДобуток матриць:\")\n",
        "print(matrix_product)\n"
      ],
      "metadata": {
        "colab": {
          "base_uri": "https://localhost:8080/"
        },
        "id": "2J2n0Bn2Zrkl",
        "outputId": "75d4db57-9f79-4e4f-8519-642cda654f16"
      },
      "execution_count": null,
      "outputs": [
        {
          "output_type": "stream",
          "name": "stdout",
          "text": [
            "Перша матриця:\n",
            "[[ 0.93874832 -0.83138081 -0.64602183 -0.52207881]\n",
            " [ 0.04989924  0.26947509  0.92318119 -0.2914356 ]\n",
            " [ 0.5544335   0.50494744  0.19271339  0.68769017]\n",
            " [ 0.22020347 -0.03026575  0.30108844  0.25851283]]\n",
            "\n",
            "Друга матриця:\n",
            "[[-0.08580717 -0.32968835  0.8231193  -0.33147459]\n",
            " [ 0.4210676  -0.57786183 -0.26121982 -0.11253678]\n",
            " [-0.70144588 -0.31660879 -0.53055584  0.7972579 ]\n",
            " [ 0.35547314 -0.90109642  0.27021844 -0.58798082]]\n",
            "\n",
            "Добуток матриць:\n",
            "[[-0.1630545   0.84590838  1.19155034 -0.42568397]\n",
            " [-0.64197365 -0.20184627 -0.59786966  0.86050585]\n",
            " [ 0.27432001 -1.15527002  0.40804398 -0.49131213]\n",
            " [-0.15094184 -0.38338133  0.09927044  0.0184587 ]]\n"
          ]
        }
      ]
    },
    {
      "cell_type": "code",
      "source": [
        "#14 Створіть матрицю розміром 3x3, заповніть її випадковими дійсними числами в\n",
        "#діапазоні від -1 до 1 та знайдіть суму елементів матриці\n",
        "import numpy as np\n",
        "\n",
        "\n",
        "matrix_shape = (3, 3)\n",
        "matrix = np.random.uniform(-1, 1, size=matrix_shape)\n",
        "print(\"Матриця:\")\n",
        "print(matrix)\n",
        "matrix_sum = np.sum(matrix)\n",
        "print(\"\\nСума елементів матриці:\")\n",
        "print(matrix_sum)\n"
      ],
      "metadata": {
        "colab": {
          "base_uri": "https://localhost:8080/"
        },
        "id": "tmyFAr2xZroY",
        "outputId": "21f11b60-d3f9-4615-d936-b288069dabb2"
      },
      "execution_count": null,
      "outputs": [
        {
          "output_type": "stream",
          "name": "stdout",
          "text": [
            "Матриця:\n",
            "[[-0.61231224 -0.97757845  0.5629573 ]\n",
            " [-0.15719309 -0.6778557   0.22651161]\n",
            " [-0.58975208 -0.66368326  0.29909571]]\n",
            "\n",
            "Сума елементів матриці:\n",
            "-2.5898102006822996\n"
          ]
        }
      ]
    },
    {
      "cell_type": "code",
      "source": [
        "#15 Створіть матрицю розміром 5x5, заповніть її випадковими дійсними числами в\n",
        "#діапазоні від -0.5 до 0.5 та знайдіть вектор-стовпчик, що містить суму елементів\n",
        "#кожного рядка матриці.\n",
        "\n",
        "import numpy as np\n",
        "\n",
        "matrix_shape = (5, 5)\n",
        "matrix = np.random.uniform(-0.5, 0.5, size=matrix_shape)\n",
        "print(\"Матриця:\")\n",
        "print(matrix)\n",
        "row_sums = np.sum(matrix, axis=1)\n",
        "\n",
        "column_vector = row_sums.reshape(-1, 1)\n",
        "\n",
        "print(\"\\nВектор, що містить суму елементів кожного рядка:\")\n",
        "print(column_vector)\n"
      ],
      "metadata": {
        "colab": {
          "base_uri": "https://localhost:8080/"
        },
        "id": "HNKhIjCXZrrn",
        "outputId": "0cad3ae0-ce7e-43c5-df83-4be587e2962b"
      },
      "execution_count": null,
      "outputs": [
        {
          "output_type": "stream",
          "name": "stdout",
          "text": [
            "Матриця:\n",
            "[[-0.21013037  0.27831389  0.29824597  0.28856313  0.27554131]\n",
            " [-0.14559074 -0.18068805 -0.15516216 -0.22668484  0.19871053]\n",
            " [ 0.46322829  0.25504187 -0.1019521  -0.24762996 -0.49763589]\n",
            " [-0.14094274 -0.48506794  0.17839439 -0.3780136   0.24013774]\n",
            " [-0.45748114 -0.22740343  0.16160815  0.27499031  0.41825437]]\n",
            "\n",
            "Вектор, що містить суму елементів кожного рядка:\n",
            "[[ 0.93053393]\n",
            " [-0.50941527]\n",
            " [-0.12894778]\n",
            " [-0.58549215]\n",
            " [ 0.16996826]]\n"
          ]
        }
      ]
    }
  ],
  "metadata": {
    "colab": {
      "provenance": [],
      "include_colab_link": true
    },
    "kernelspec": {
      "display_name": "Python 3",
      "name": "python3"
    }
  },
  "nbformat": 4,
  "nbformat_minor": 0
}